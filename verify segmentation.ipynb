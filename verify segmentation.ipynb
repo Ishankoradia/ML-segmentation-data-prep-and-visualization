{
 "cells": [
  {
   "cell_type": "code",
   "execution_count": 1,
   "id": "1bd34080",
   "metadata": {},
   "outputs": [],
   "source": [
    "import cv2\n",
    "import numpy as np\n",
    "import pandas as pd\n",
    "import matplotlib.pyplot as plt\n",
    "from segmentation import generate_train_test, generate_train_test_species\n",
    "import os\n",
    "from ipywidgets import interact, interactive, fixed, interact_manual\n",
    "import ipywidgets as widgets\n",
    "\n",
    "\n",
    "def count_imgs(img_dir):\n",
    "    return (len([name for name in os.listdir(img_dir)]) - 1)\n",
    "\n",
    "def generate_img_paths(species, which, path_to_segment_data):\n",
    "    PATH_X = os.path.join(path_to_segment_data, species+\"/\", \"X_\"+which+\"/\")\n",
    "    PATH_Y = os.path.join(path_to_segment_data, species+\"/\", \"Y_\"+which+\"_segment/\")\n",
    "    return PATH_X, PATH_Y\n",
    "\n",
    "def draw_segmentation(img_x, img_y, t):\n",
    "    img_x = cv2.imread(img_x)\n",
    "    img_y = cv2.imread(img_y)\n",
    "    img_x[np.where((img_y[:, :, 0] == 3) & (img_y[:, :, 1] == 3) & (img_y[:, :, 2] == 3))] = (255, 0, 0)\n",
    "    plt.axis('off')\n",
    "    plt.title(t)\n",
    "    plt.imshow(img_x)   \n",
    "\n",
    "def plt_species_imgs(species, which, path_to_segment_data=\"segment_data/\"):\n",
    "    PATH_X, PATH_Y = generate_img_paths(species, which, path_to_segment_data)\n",
    "    no_of_imgs = count_imgs(PATH_X)\n",
    "    def interact_with_imgs(i, PATH_X=fixed(PATH_X), PATH_Y=fixed(PATH_Y), species=fixed(species), which=fixed(which)):\n",
    "        img_x = PATH_X + which + '_' + species + '_'+ str(i) + '.jpg'\n",
    "        img_y = PATH_Y + which + '_' + species + '_segment_' + str(i) + '.png'\n",
    "        title = which + '_' + species + '_'+ str(i)\n",
    "        draw_segmentation(img_x, img_y, title)\n",
    "    interact(interact_with_imgs, i=(1, no_of_imgs, 100))\n",
    "\n",
    "def main():\n",
    "    interact(plt_species_imgs, species=[\"cat\", \"dog\"], which=[\"train\", \"test\"])"
   ]
  },
  {
   "cell_type": "code",
   "execution_count": 2,
   "id": "645a4a95",
   "metadata": {},
   "outputs": [
    {
     "data": {
      "application/vnd.jupyter.widget-view+json": {
       "model_id": "283ae785dc254725978c958010acd942",
       "version_major": 2,
       "version_minor": 0
      },
      "text/plain": [
       "interactive(children=(Dropdown(description='species', options=('cat', 'dog'), value='cat'), Dropdown(descripti…"
      ]
     },
     "metadata": {},
     "output_type": "display_data"
    }
   ],
   "source": [
    "main()"
   ]
  }
 ],
 "metadata": {
  "kernelspec": {
   "display_name": "Python 3",
   "language": "python",
   "name": "python3"
  },
  "language_info": {
   "codemirror_mode": {
    "name": "ipython",
    "version": 3
   },
   "file_extension": ".py",
   "mimetype": "text/x-python",
   "name": "python",
   "nbconvert_exporter": "python",
   "pygments_lexer": "ipython3",
   "version": "3.8.8"
  }
 },
 "nbformat": 4,
 "nbformat_minor": 5
}
